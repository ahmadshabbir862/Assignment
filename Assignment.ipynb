{
 "metadata": {
  "language_info": {
   "codemirror_mode": {
    "name": "ipython",
    "version": 3
   },
   "file_extension": ".py",
   "mimetype": "text/x-python",
   "name": "python",
   "nbconvert_exporter": "python",
   "pygments_lexer": "ipython3",
   "version": "3.7.6-final"
  },
  "orig_nbformat": 2,
  "kernelspec": {
   "name": "python3",
   "display_name": "Python 3.7.6 32-bit (conda)",
   "metadata": {
    "interpreter": {
     "hash": "b3ba2566441a7c06988d0923437866b63cedc61552a5af99d1f4fb67d367b25f"
    }
   }
  }
 },
 "nbformat": 4,
 "nbformat_minor": 2,
 "cells": [
  {
   "cell_type": "code",
   "execution_count": 124,
   "metadata": {},
   "outputs": [],
   "source": [
    "import numpy as np   \n",
    "import pandas as pd"
   ]
  },
  {
   "cell_type": "code",
   "execution_count": 125,
   "metadata": {},
   "outputs": [],
   "source": [
    "states0 = pd.read_csv('states0.csv', index_col=0)\n",
    "states1 = pd.read_csv('states1.csv', index_col=0)\n",
    "states2 = pd.read_csv('states2.csv', index_col=0)\n",
    "states3 = pd.read_csv('states3.csv', index_col=0)\n",
    "states4 = pd.read_csv('states4.csv', index_col=0)\n",
    "states5 = pd.read_csv('states5.csv', index_col=0)\n",
    "states6 = pd.read_csv('states6.csv', index_col=0)\n",
    "states7 = pd.read_csv('states7.csv', index_col=0)\n",
    "states8 = pd.read_csv('states8.csv', index_col=0)\n",
    "states9 = pd.read_csv('states9.csv', index_col=0)"
   ]
  },
  {
   "cell_type": "code",
   "execution_count": 126,
   "metadata": {},
   "outputs": [
    {
     "output_type": "display_data",
     "data": {
      "text/plain": "       State  TotalPop             Hispanic                White  \\\n0       Iowa   3093526    5.30364520048603%   87.71968408262464%   \n1     Kansas   2892987  11.644342105263148%   75.95828947368425%   \n2   Kentucky   4397353   3.222993688007212%    85.2307484220019%   \n3  Louisiana   4625253   4.866489361702128%  54.978546099290796%   \n4      Maine   1329100  1.4319088319088318%   93.70740740740736%   \n5   Maryland   5930538    8.47249820014399%     52.679049676026%   \n\n                 Black                Native                Asian  \\\n0  3.2569866342648868%   0.2897934386391251%   1.699392466585662%   \n1     6.5678947368421%   0.7339473684210529%   2.331052631578946%   \n2   8.272317403065832%   0.1666366095581602%  1.1298467087466182%   \n3   36.32624113475175%  0.48430851063829816%   1.669060283687941%   \n4  1.1344729344729356%   0.7883190883190888%  0.9658119658119669%   \n5    30.6777537796976%  0.20309575233981278%   5.325413966882652%   \n\n                 Pacific               Income          GenderPop  \n0  0.055164034021871235%   $53017.75304136253  1534595M_1558931F  \n1                    NaN  $53885.612648221344  1439862M_1453125F  \n2  0.046438232642019836%   $45285.80253623189  2164208M_2233145F  \n3  0.039184397163120555%   $44957.99376114082  2261156M_2364097F  \n4   0.01566951566951567%   $49181.97435897436    650081M_679019F  \n5   0.03628509719222463%   $78765.40072463769         2872643M_F  ",
      "text/html": "<div>\n<style scoped>\n    .dataframe tbody tr th:only-of-type {\n        vertical-align: middle;\n    }\n\n    .dataframe tbody tr th {\n        vertical-align: top;\n    }\n\n    .dataframe thead th {\n        text-align: right;\n    }\n</style>\n<table border=\"1\" class=\"dataframe\">\n  <thead>\n    <tr style=\"text-align: right;\">\n      <th></th>\n      <th>State</th>\n      <th>TotalPop</th>\n      <th>Hispanic</th>\n      <th>White</th>\n      <th>Black</th>\n      <th>Native</th>\n      <th>Asian</th>\n      <th>Pacific</th>\n      <th>Income</th>\n      <th>GenderPop</th>\n    </tr>\n  </thead>\n  <tbody>\n    <tr>\n      <th>0</th>\n      <td>Iowa</td>\n      <td>3093526</td>\n      <td>5.30364520048603%</td>\n      <td>87.71968408262464%</td>\n      <td>3.2569866342648868%</td>\n      <td>0.2897934386391251%</td>\n      <td>1.699392466585662%</td>\n      <td>0.055164034021871235%</td>\n      <td>$53017.75304136253</td>\n      <td>1534595M_1558931F</td>\n    </tr>\n    <tr>\n      <th>1</th>\n      <td>Kansas</td>\n      <td>2892987</td>\n      <td>11.644342105263148%</td>\n      <td>75.95828947368425%</td>\n      <td>6.5678947368421%</td>\n      <td>0.7339473684210529%</td>\n      <td>2.331052631578946%</td>\n      <td>NaN</td>\n      <td>$53885.612648221344</td>\n      <td>1439862M_1453125F</td>\n    </tr>\n    <tr>\n      <th>2</th>\n      <td>Kentucky</td>\n      <td>4397353</td>\n      <td>3.222993688007212%</td>\n      <td>85.2307484220019%</td>\n      <td>8.272317403065832%</td>\n      <td>0.1666366095581602%</td>\n      <td>1.1298467087466182%</td>\n      <td>0.046438232642019836%</td>\n      <td>$45285.80253623189</td>\n      <td>2164208M_2233145F</td>\n    </tr>\n    <tr>\n      <th>3</th>\n      <td>Louisiana</td>\n      <td>4625253</td>\n      <td>4.866489361702128%</td>\n      <td>54.978546099290796%</td>\n      <td>36.32624113475175%</td>\n      <td>0.48430851063829816%</td>\n      <td>1.669060283687941%</td>\n      <td>0.039184397163120555%</td>\n      <td>$44957.99376114082</td>\n      <td>2261156M_2364097F</td>\n    </tr>\n    <tr>\n      <th>4</th>\n      <td>Maine</td>\n      <td>1329100</td>\n      <td>1.4319088319088318%</td>\n      <td>93.70740740740736%</td>\n      <td>1.1344729344729356%</td>\n      <td>0.7883190883190888%</td>\n      <td>0.9658119658119669%</td>\n      <td>0.01566951566951567%</td>\n      <td>$49181.97435897436</td>\n      <td>650081M_679019F</td>\n    </tr>\n    <tr>\n      <th>5</th>\n      <td>Maryland</td>\n      <td>5930538</td>\n      <td>8.47249820014399%</td>\n      <td>52.679049676026%</td>\n      <td>30.6777537796976%</td>\n      <td>0.20309575233981278%</td>\n      <td>5.325413966882652%</td>\n      <td>0.03628509719222463%</td>\n      <td>$78765.40072463769</td>\n      <td>2872643M_F</td>\n    </tr>\n  </tbody>\n</table>\n</div>"
     },
     "metadata": {}
    },
    {
     "output_type": "display_data",
     "data": {
      "text/plain": "           State  TotalPop             Hispanic                White  \\\n0       Missouri   6045448   4.037247838616718%     77.508069164265%   \n1        Montana   1014699  3.2688888888888896%   86.41555555555554%   \n2       Nebraska   1869365   9.203759398496235%   81.13947368421056%   \n3         Nevada   2798636  27.100883652430046%   53.23932253313698%   \n4  New Hampshire   1324201  3.3219178082191796%   91.31917808219184%   \n5     New Jersey   8904413   18.74950049950049%  56.488761238761285%   \n\n                 Black                Native                Asian  \\\n0  14.122118155619594%  0.36332853025936646%  1.6244956772334296%   \n1  0.4292592592592591%   7.0607407407407425%  0.5703703703703705%   \n2   4.956203007518794%   0.8644736842105263%  1.8590225563909788%   \n3   7.739617083946994%   1.0871870397643593%   7.095729013254786%   \n4  1.2277397260273974%  0.14280821917808229%   2.191438356164382%   \n5  14.387862137862117%  0.11533466533466513%   8.159990009990018%   \n\n                 Pacific               Income          GenderPop  \n0   0.10165706051873193%   $49763.98772563177  2964003M_3081445F  \n1   0.07222222222222222%  $47645.682835820895          510163M_F  \n2   0.05714285714285715%  $55916.469696969696    929606M_939759F  \n3    0.5745213549337267%  $55526.525073746314  1407735M_1390901F  \n4  0.016095890410958904%    $68728.8595890411    653484M_670717F  \n5  0.031318681318681325%   $76581.08341708542  4343027M_4561386F  ",
      "text/html": "<div>\n<style scoped>\n    .dataframe tbody tr th:only-of-type {\n        vertical-align: middle;\n    }\n\n    .dataframe tbody tr th {\n        vertical-align: top;\n    }\n\n    .dataframe thead th {\n        text-align: right;\n    }\n</style>\n<table border=\"1\" class=\"dataframe\">\n  <thead>\n    <tr style=\"text-align: right;\">\n      <th></th>\n      <th>State</th>\n      <th>TotalPop</th>\n      <th>Hispanic</th>\n      <th>White</th>\n      <th>Black</th>\n      <th>Native</th>\n      <th>Asian</th>\n      <th>Pacific</th>\n      <th>Income</th>\n      <th>GenderPop</th>\n    </tr>\n  </thead>\n  <tbody>\n    <tr>\n      <th>0</th>\n      <td>Missouri</td>\n      <td>6045448</td>\n      <td>4.037247838616718%</td>\n      <td>77.508069164265%</td>\n      <td>14.122118155619594%</td>\n      <td>0.36332853025936646%</td>\n      <td>1.6244956772334296%</td>\n      <td>0.10165706051873193%</td>\n      <td>$49763.98772563177</td>\n      <td>2964003M_3081445F</td>\n    </tr>\n    <tr>\n      <th>1</th>\n      <td>Montana</td>\n      <td>1014699</td>\n      <td>3.2688888888888896%</td>\n      <td>86.41555555555554%</td>\n      <td>0.4292592592592591%</td>\n      <td>7.0607407407407425%</td>\n      <td>0.5703703703703705%</td>\n      <td>0.07222222222222222%</td>\n      <td>$47645.682835820895</td>\n      <td>510163M_F</td>\n    </tr>\n    <tr>\n      <th>2</th>\n      <td>Nebraska</td>\n      <td>1869365</td>\n      <td>9.203759398496235%</td>\n      <td>81.13947368421056%</td>\n      <td>4.956203007518794%</td>\n      <td>0.8644736842105263%</td>\n      <td>1.8590225563909788%</td>\n      <td>0.05714285714285715%</td>\n      <td>$55916.469696969696</td>\n      <td>929606M_939759F</td>\n    </tr>\n    <tr>\n      <th>3</th>\n      <td>Nevada</td>\n      <td>2798636</td>\n      <td>27.100883652430046%</td>\n      <td>53.23932253313698%</td>\n      <td>7.739617083946994%</td>\n      <td>1.0871870397643593%</td>\n      <td>7.095729013254786%</td>\n      <td>0.5745213549337267%</td>\n      <td>$55526.525073746314</td>\n      <td>1407735M_1390901F</td>\n    </tr>\n    <tr>\n      <th>4</th>\n      <td>New Hampshire</td>\n      <td>1324201</td>\n      <td>3.3219178082191796%</td>\n      <td>91.31917808219184%</td>\n      <td>1.2277397260273974%</td>\n      <td>0.14280821917808229%</td>\n      <td>2.191438356164382%</td>\n      <td>0.016095890410958904%</td>\n      <td>$68728.8595890411</td>\n      <td>653484M_670717F</td>\n    </tr>\n    <tr>\n      <th>5</th>\n      <td>New Jersey</td>\n      <td>8904413</td>\n      <td>18.74950049950049%</td>\n      <td>56.488761238761285%</td>\n      <td>14.387862137862117%</td>\n      <td>0.11533466533466513%</td>\n      <td>8.159990009990018%</td>\n      <td>0.031318681318681325%</td>\n      <td>$76581.08341708542</td>\n      <td>4343027M_4561386F</td>\n    </tr>\n  </tbody>\n</table>\n</div>"
     },
     "metadata": {}
    },
    {
     "output_type": "display_data",
     "data": {
      "text/plain": "           State  TotalPop             Hispanic                White  \\\n0           Utah   2903379  13.468376068376063%   79.40683760683764%   \n1        Vermont    626604  1.6092896174863391%   93.98306010928961%   \n2       Virginia   8256630     8.0110164981373%  63.271048430015945%   \n3     Washington   6985464  11.140968858131506%   72.03840830449816%   \n4  West Virginia   1851420   1.290909090909089%   92.17623966942146%   \n5      Wisconsin   5742117   6.683333333333334%   79.86400862068966%   \n\n                 Black                Native                Asian  \\\n0  1.0179487179487194%   1.0813675213675222%   2.196068376068376%   \n1  0.9808743169398909%    0.301639344262295%  1.2387978142076501%   \n2   20.17599787120807%  0.21245343267695582%   5.455242150079845%   \n3   3.384429065743947%   1.4107266435986163%   7.022006920415224%   \n4  3.6628099173553723%  0.15268595041322316%  0.6824380165289253%   \n5   8.195186781609202%   0.9536637931034483%   2.404238505747124%   \n\n                 Pacific               Income          GenderPop  \n0    0.8259829059829059%   $63488.91780821918  1459229M_1444150F  \n1   0.03060109289617486%   $55602.96721311475    308573M_318031F  \n2   0.06471527408195847%   $72866.01341201717  4060948M_4195682F  \n3     0.609896193771627%   $64493.76768377254  3487725M_3497739F  \n4   0.02644628099173554%   $41437.11157024794    913631M_937789F  \n5  0.020833333333333332%  $53898.889208633096  2851385M_2890732F  ",
      "text/html": "<div>\n<style scoped>\n    .dataframe tbody tr th:only-of-type {\n        vertical-align: middle;\n    }\n\n    .dataframe tbody tr th {\n        vertical-align: top;\n    }\n\n    .dataframe thead th {\n        text-align: right;\n    }\n</style>\n<table border=\"1\" class=\"dataframe\">\n  <thead>\n    <tr style=\"text-align: right;\">\n      <th></th>\n      <th>State</th>\n      <th>TotalPop</th>\n      <th>Hispanic</th>\n      <th>White</th>\n      <th>Black</th>\n      <th>Native</th>\n      <th>Asian</th>\n      <th>Pacific</th>\n      <th>Income</th>\n      <th>GenderPop</th>\n    </tr>\n  </thead>\n  <tbody>\n    <tr>\n      <th>0</th>\n      <td>Utah</td>\n      <td>2903379</td>\n      <td>13.468376068376063%</td>\n      <td>79.40683760683764%</td>\n      <td>1.0179487179487194%</td>\n      <td>1.0813675213675222%</td>\n      <td>2.196068376068376%</td>\n      <td>0.8259829059829059%</td>\n      <td>$63488.91780821918</td>\n      <td>1459229M_1444150F</td>\n    </tr>\n    <tr>\n      <th>1</th>\n      <td>Vermont</td>\n      <td>626604</td>\n      <td>1.6092896174863391%</td>\n      <td>93.98306010928961%</td>\n      <td>0.9808743169398909%</td>\n      <td>0.301639344262295%</td>\n      <td>1.2387978142076501%</td>\n      <td>0.03060109289617486%</td>\n      <td>$55602.96721311475</td>\n      <td>308573M_318031F</td>\n    </tr>\n    <tr>\n      <th>2</th>\n      <td>Virginia</td>\n      <td>8256630</td>\n      <td>8.0110164981373%</td>\n      <td>63.271048430015945%</td>\n      <td>20.17599787120807%</td>\n      <td>0.21245343267695582%</td>\n      <td>5.455242150079845%</td>\n      <td>0.06471527408195847%</td>\n      <td>$72866.01341201717</td>\n      <td>4060948M_4195682F</td>\n    </tr>\n    <tr>\n      <th>3</th>\n      <td>Washington</td>\n      <td>6985464</td>\n      <td>11.140968858131506%</td>\n      <td>72.03840830449816%</td>\n      <td>3.384429065743947%</td>\n      <td>1.4107266435986163%</td>\n      <td>7.022006920415224%</td>\n      <td>0.609896193771627%</td>\n      <td>$64493.76768377254</td>\n      <td>3487725M_3497739F</td>\n    </tr>\n    <tr>\n      <th>4</th>\n      <td>West Virginia</td>\n      <td>1851420</td>\n      <td>1.290909090909089%</td>\n      <td>92.17623966942146%</td>\n      <td>3.6628099173553723%</td>\n      <td>0.15268595041322316%</td>\n      <td>0.6824380165289253%</td>\n      <td>0.02644628099173554%</td>\n      <td>$41437.11157024794</td>\n      <td>913631M_937789F</td>\n    </tr>\n    <tr>\n      <th>5</th>\n      <td>Wisconsin</td>\n      <td>5742117</td>\n      <td>6.683333333333334%</td>\n      <td>79.86400862068966%</td>\n      <td>8.195186781609202%</td>\n      <td>0.9536637931034483%</td>\n      <td>2.404238505747124%</td>\n      <td>0.020833333333333332%</td>\n      <td>$53898.889208633096</td>\n      <td>2851385M_2890732F</td>\n    </tr>\n  </tbody>\n</table>\n</div>"
     },
     "metadata": {}
    }
   ],
   "source": [
    "display(states3)\n",
    "display(states5)\n",
    "display(states9)"
   ]
  },
  {
   "cell_type": "code",
   "execution_count": 127,
   "metadata": {},
   "outputs": [],
   "source": [
    "states = [states0,states1,states2,states3,states4,states5,states6,states7,states8,states9]"
   ]
  },
  {
   "cell_type": "code",
   "execution_count": 128,
   "metadata": {},
   "outputs": [],
   "source": [
    "us_cences=pd.concat(states, ignore_index=True)"
   ]
  },
  {
   "cell_type": "code",
   "execution_count": 129,
   "metadata": {},
   "outputs": [
    {
     "output_type": "execute_result",
     "data": {
      "text/plain": [
       "Index(['State', 'TotalPop', 'Hispanic', 'White', 'Black', 'Native', 'Asian',\n",
       "       'Pacific', 'Income', 'GenderPop'],\n",
       "      dtype='object')"
      ]
     },
     "metadata": {},
     "execution_count": 129
    }
   ],
   "source": [
    "us_cences.columns"
   ]
  },
  {
   "source": [
    "us_cences.dtypes"
   ],
   "cell_type": "code",
   "metadata": {},
   "execution_count": 130,
   "outputs": [
    {
     "output_type": "execute_result",
     "data": {
      "text/plain": [
       "State        object\n",
       "TotalPop      int64\n",
       "Hispanic     object\n",
       "White        object\n",
       "Black        object\n",
       "Native       object\n",
       "Asian        object\n",
       "Pacific      object\n",
       "Income       object\n",
       "GenderPop    object\n",
       "dtype: object"
      ]
     },
     "metadata": {},
     "execution_count": 130
    }
   ]
  },
  {
   "cell_type": "code",
   "execution_count": 131,
   "metadata": {},
   "outputs": [],
   "source": [
    "#There are all columns are objects. These dtypes are not for making histogram."
   ]
  },
  {
   "cell_type": "code",
   "execution_count": 132,
   "metadata": {},
   "outputs": [
    {
     "output_type": "execute_result",
     "data": {
      "text/plain": [
       "        State  TotalPop             Hispanic                White  \\\n",
       "0     Alabama   4830620  3.7516156462584975%     61.878656462585%   \n",
       "1      Alaska    733375   5.909580838323351%  60.910179640718574%   \n",
       "2     Arizona   6641928  29.565921052631502%  57.120000000000026%   \n",
       "3    Arkansas   2958208   6.215474452554738%   71.13781021897813%   \n",
       "4  California  38421464  37.291874687968054%   40.21578881677474%   \n",
       "\n",
       "                 Black                Native                Asian  \\\n",
       "0   31.25297619047618%   0.4532312925170065%  1.0502551020408146%   \n",
       "1  2.8485029940119775%    16.39101796407186%   5.450299401197604%   \n",
       "2  3.8509868421052658%     4.35506578947368%   2.876578947368419%   \n",
       "3  18.968759124087573%   0.5229197080291965%  1.1423357664233578%   \n",
       "4   5.677396405391911%  0.40529206190713685%  13.052234148776776%   \n",
       "\n",
       "                Pacific              Income            GenderPop  \n",
       "0  0.03435374149659865%  $43296.35860306644    2341093M_2489527F  \n",
       "1   1.0586826347305378%  $70354.74390243902      384160M_349215F  \n",
       "2  0.16763157894736833%  $54207.82095490716    3299088M_3342840F  \n",
       "3  0.14686131386861315%  $41935.63396778917    1451913M_1506295F  \n",
       "4  0.35141038442336353%  $67264.78230266465  19087135M_19334329F  "
      ],
      "text/html": "<div>\n<style scoped>\n    .dataframe tbody tr th:only-of-type {\n        vertical-align: middle;\n    }\n\n    .dataframe tbody tr th {\n        vertical-align: top;\n    }\n\n    .dataframe thead th {\n        text-align: right;\n    }\n</style>\n<table border=\"1\" class=\"dataframe\">\n  <thead>\n    <tr style=\"text-align: right;\">\n      <th></th>\n      <th>State</th>\n      <th>TotalPop</th>\n      <th>Hispanic</th>\n      <th>White</th>\n      <th>Black</th>\n      <th>Native</th>\n      <th>Asian</th>\n      <th>Pacific</th>\n      <th>Income</th>\n      <th>GenderPop</th>\n    </tr>\n  </thead>\n  <tbody>\n    <tr>\n      <th>0</th>\n      <td>Alabama</td>\n      <td>4830620</td>\n      <td>3.7516156462584975%</td>\n      <td>61.878656462585%</td>\n      <td>31.25297619047618%</td>\n      <td>0.4532312925170065%</td>\n      <td>1.0502551020408146%</td>\n      <td>0.03435374149659865%</td>\n      <td>$43296.35860306644</td>\n      <td>2341093M_2489527F</td>\n    </tr>\n    <tr>\n      <th>1</th>\n      <td>Alaska</td>\n      <td>733375</td>\n      <td>5.909580838323351%</td>\n      <td>60.910179640718574%</td>\n      <td>2.8485029940119775%</td>\n      <td>16.39101796407186%</td>\n      <td>5.450299401197604%</td>\n      <td>1.0586826347305378%</td>\n      <td>$70354.74390243902</td>\n      <td>384160M_349215F</td>\n    </tr>\n    <tr>\n      <th>2</th>\n      <td>Arizona</td>\n      <td>6641928</td>\n      <td>29.565921052631502%</td>\n      <td>57.120000000000026%</td>\n      <td>3.8509868421052658%</td>\n      <td>4.35506578947368%</td>\n      <td>2.876578947368419%</td>\n      <td>0.16763157894736833%</td>\n      <td>$54207.82095490716</td>\n      <td>3299088M_3342840F</td>\n    </tr>\n    <tr>\n      <th>3</th>\n      <td>Arkansas</td>\n      <td>2958208</td>\n      <td>6.215474452554738%</td>\n      <td>71.13781021897813%</td>\n      <td>18.968759124087573%</td>\n      <td>0.5229197080291965%</td>\n      <td>1.1423357664233578%</td>\n      <td>0.14686131386861315%</td>\n      <td>$41935.63396778917</td>\n      <td>1451913M_1506295F</td>\n    </tr>\n    <tr>\n      <th>4</th>\n      <td>California</td>\n      <td>38421464</td>\n      <td>37.291874687968054%</td>\n      <td>40.21578881677474%</td>\n      <td>5.677396405391911%</td>\n      <td>0.40529206190713685%</td>\n      <td>13.052234148776776%</td>\n      <td>0.35141038442336353%</td>\n      <td>$67264.78230266465</td>\n      <td>19087135M_19334329F</td>\n    </tr>\n  </tbody>\n</table>\n</div>"
     },
     "metadata": {},
     "execution_count": 132
    }
   ],
   "source": [
    "us_cences.head()"
   ]
  },
  {
   "cell_type": "code",
   "execution_count": 133,
   "metadata": {},
   "outputs": [],
   "source": [
    "#First we convert income dtype into integer."
   ]
  },
  {
   "cell_type": "code",
   "execution_count": 134,
   "metadata": {},
   "outputs": [
    {
     "output_type": "execute_result",
     "data": {
      "text/plain": [
       "               Income\n",
       "0  $43296.35860306644\n",
       "1  $70354.74390243902\n",
       "2  $54207.82095490716\n",
       "3  $41935.63396778917\n",
       "4  $67264.78230266465"
      ],
      "text/html": "<div>\n<style scoped>\n    .dataframe tbody tr th:only-of-type {\n        vertical-align: middle;\n    }\n\n    .dataframe tbody tr th {\n        vertical-align: top;\n    }\n\n    .dataframe thead th {\n        text-align: right;\n    }\n</style>\n<table border=\"1\" class=\"dataframe\">\n  <thead>\n    <tr style=\"text-align: right;\">\n      <th></th>\n      <th>Income</th>\n    </tr>\n  </thead>\n  <tbody>\n    <tr>\n      <th>0</th>\n      <td>$43296.35860306644</td>\n    </tr>\n    <tr>\n      <th>1</th>\n      <td>$70354.74390243902</td>\n    </tr>\n    <tr>\n      <th>2</th>\n      <td>$54207.82095490716</td>\n    </tr>\n    <tr>\n      <th>3</th>\n      <td>$41935.63396778917</td>\n    </tr>\n    <tr>\n      <th>4</th>\n      <td>$67264.78230266465</td>\n    </tr>\n  </tbody>\n</table>\n</div>"
     },
     "metadata": {},
     "execution_count": 134
    }
   ],
   "source": [
    "us_cences[['Income']].head()"
   ]
  },
  {
   "source": [
    "Cleaning of Income"
   ],
   "cell_type": "markdown",
   "metadata": {}
  },
  {
   "cell_type": "code",
   "execution_count": 136,
   "metadata": {},
   "outputs": [
    {
     "output_type": "execute_result",
     "data": {
      "text/plain": [
       "dtype('float64')"
      ]
     },
     "metadata": {},
     "execution_count": 136
    }
   ],
   "source": [
    "us_cences['Income'] = us_cences['Income'].replace({'\\$': '', ',': ''}, regex=True)\n",
    "us_cences['Income'] = pd.to_numeric(us_cences['Income'])\n",
    "us_cences['Income'].dtype"
   ]
  },
  {
   "cell_type": "code",
   "execution_count": 137,
   "metadata": {},
   "outputs": [],
   "source": [
    "#Cleaning of Male and Female Population "
   ]
  },
  {
   "cell_type": "code",
   "execution_count": 138,
   "metadata": {},
   "outputs": [
    {
     "output_type": "execute_result",
     "data": {
      "text/plain": [
       "             GenderPop\n",
       "0    2341093M_2489527F\n",
       "1      384160M_349215F\n",
       "2    3299088M_3342840F\n",
       "3    1451913M_1506295F\n",
       "4  19087135M_19334329F"
      ],
      "text/html": "<div>\n<style scoped>\n    .dataframe tbody tr th:only-of-type {\n        vertical-align: middle;\n    }\n\n    .dataframe tbody tr th {\n        vertical-align: top;\n    }\n\n    .dataframe thead th {\n        text-align: right;\n    }\n</style>\n<table border=\"1\" class=\"dataframe\">\n  <thead>\n    <tr style=\"text-align: right;\">\n      <th></th>\n      <th>GenderPop</th>\n    </tr>\n  </thead>\n  <tbody>\n    <tr>\n      <th>0</th>\n      <td>2341093M_2489527F</td>\n    </tr>\n    <tr>\n      <th>1</th>\n      <td>384160M_349215F</td>\n    </tr>\n    <tr>\n      <th>2</th>\n      <td>3299088M_3342840F</td>\n    </tr>\n    <tr>\n      <th>3</th>\n      <td>1451913M_1506295F</td>\n    </tr>\n    <tr>\n      <th>4</th>\n      <td>19087135M_19334329F</td>\n    </tr>\n  </tbody>\n</table>\n</div>"
     },
     "metadata": {},
     "execution_count": 138
    }
   ],
   "source": [
    "us_cences[['GenderPop']].head()"
   ]
  },
  {
   "cell_type": "code",
   "execution_count": 139,
   "metadata": {},
   "outputs": [],
   "source": [
    "new = us_cences['GenderPop'].str.split('_', n = 1, expand = True)\n",
    "us_cences['MalePop']= new[0]\n",
    "us_cences['FemalePop']= new[1]\n",
    "us_cences.drop(columns =['GenderPop'], inplace = True)"
   ]
  },
  {
   "cell_type": "code",
   "execution_count": 140,
   "metadata": {},
   "outputs": [
    {
     "output_type": "execute_result",
     "data": {
      "text/plain": [
       "Index(['State', 'TotalPop', 'Hispanic', 'White', 'Black', 'Native', 'Asian',\n",
       "       'Pacific', 'Income', 'MalePop', 'FemalePop'],\n",
       "      dtype='object')"
      ]
     },
     "metadata": {},
     "execution_count": 140
    }
   ],
   "source": [
    "us_cences.columns"
   ]
  },
  {
   "cell_type": "code",
   "execution_count": 141,
   "metadata": {},
   "outputs": [
    {
     "output_type": "execute_result",
     "data": {
      "text/plain": [
       "        State    MalePop  FemalePop\n",
       "0     Alabama   2341093M   2489527F\n",
       "1      Alaska    384160M    349215F\n",
       "2     Arizona   3299088M   3342840F\n",
       "3    Arkansas   1451913M   1506295F\n",
       "4  California  19087135M  19334329F"
      ],
      "text/html": "<div>\n<style scoped>\n    .dataframe tbody tr th:only-of-type {\n        vertical-align: middle;\n    }\n\n    .dataframe tbody tr th {\n        vertical-align: top;\n    }\n\n    .dataframe thead th {\n        text-align: right;\n    }\n</style>\n<table border=\"1\" class=\"dataframe\">\n  <thead>\n    <tr style=\"text-align: right;\">\n      <th></th>\n      <th>State</th>\n      <th>MalePop</th>\n      <th>FemalePop</th>\n    </tr>\n  </thead>\n  <tbody>\n    <tr>\n      <th>0</th>\n      <td>Alabama</td>\n      <td>2341093M</td>\n      <td>2489527F</td>\n    </tr>\n    <tr>\n      <th>1</th>\n      <td>Alaska</td>\n      <td>384160M</td>\n      <td>349215F</td>\n    </tr>\n    <tr>\n      <th>2</th>\n      <td>Arizona</td>\n      <td>3299088M</td>\n      <td>3342840F</td>\n    </tr>\n    <tr>\n      <th>3</th>\n      <td>Arkansas</td>\n      <td>1451913M</td>\n      <td>1506295F</td>\n    </tr>\n    <tr>\n      <th>4</th>\n      <td>California</td>\n      <td>19087135M</td>\n      <td>19334329F</td>\n    </tr>\n  </tbody>\n</table>\n</div>"
     },
     "metadata": {},
     "execution_count": 141
    }
   ],
   "source": [
    "us_cences[['State','MalePop','FemalePop']].head()"
   ]
  },
  {
   "cell_type": "code",
   "execution_count": 142,
   "metadata": {},
   "outputs": [],
   "source": [
    "us_cences['MalePop']= us_cences['MalePop'].replace({'\\D':''}, regex=True)\n",
    "us_cences['FemalePop']= us_cences['FemalePop'].replace({'\\D':'', r'^\\s*$': np.nan}, regex=True)\n",
    "us_cences['MalePop']= pd.to_numeric(us_cences['MalePop'])\n",
    "us_cences['FemalePop']= pd.to_numeric(us_cences['FemalePop'])"
   ]
  },
  {
   "cell_type": "code",
   "execution_count": 143,
   "metadata": {},
   "outputs": [],
   "source": [
    "#us_cences[us_cences.isnull().any(axis=1)]"
   ]
  },
  {
   "cell_type": "code",
   "execution_count": null,
   "metadata": {},
   "outputs": [],
   "source": []
  }
 ]
}